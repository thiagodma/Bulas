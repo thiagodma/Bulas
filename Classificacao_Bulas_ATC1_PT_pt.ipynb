{
  "nbformat": 4,
  "nbformat_minor": 0,
  "metadata": {
    "colab": {
      "name": "Classificacao_Bulas_ATC1_PT_pt.ipynb",
      "provenance": []
    },
    "kernelspec": {
      "name": "python3",
      "display_name": "Python 3"
    },
    "accelerator": "GPU"
  },
  "cells": [
    {
      "cell_type": "code",
      "metadata": {
        "id": "rYGC7vxnL7yX",
        "colab_type": "code",
        "colab": {}
      },
      "source": [
        "from fastai import *\n",
        "from fastai.text import *"
      ],
      "execution_count": 0,
      "outputs": []
    },
    {
      "cell_type": "code",
      "metadata": {
        "id": "smmBBzn2NuBl",
        "colab_type": "code",
        "colab": {
          "base_uri": "https://localhost:8080/",
          "height": 122
        },
        "outputId": "9cd22637-d304-4f2d-ece3-4d5de4b0ac0a"
      },
      "source": [
        "from google.colab import drive\n",
        "drive.mount('/content/drive')"
      ],
      "execution_count": 2,
      "outputs": [
        {
          "output_type": "stream",
          "text": [
            "Go to this URL in a browser: https://accounts.google.com/o/oauth2/auth?client_id=947318989803-6bn6qk8qdgf4n4g3pfee6491hc0brc4i.apps.googleusercontent.com&redirect_uri=urn%3Aietf%3Awg%3Aoauth%3A2.0%3Aoob&scope=email%20https%3A%2F%2Fwww.googleapis.com%2Fauth%2Fdocs.test%20https%3A%2F%2Fwww.googleapis.com%2Fauth%2Fdrive%20https%3A%2F%2Fwww.googleapis.com%2Fauth%2Fdrive.photos.readonly%20https%3A%2F%2Fwww.googleapis.com%2Fauth%2Fpeopleapi.readonly&response_type=code\n",
            "\n",
            "Enter your authorization code:\n",
            "··········\n",
            "Mounted at /content/drive\n"
          ],
          "name": "stdout"
        }
      ]
    },
    {
      "cell_type": "code",
      "metadata": {
        "id": "2AHDAhSHOZni",
        "colab_type": "code",
        "colab": {}
      },
      "source": [
        "#vocabulario\n",
        "with open('drive/My Drive/PT_LM/models/pt_wt_vocab.pkl', 'rb') as f:\n",
        "    itos = pickle.load(f)\n",
        "vocab = Vocab(itos)"
      ],
      "execution_count": 0,
      "outputs": []
    },
    {
      "cell_type": "code",
      "metadata": {
        "id": "oNAJ7NVcMADY",
        "colab_type": "code",
        "colab": {
          "base_uri": "https://localhost:8080/",
          "height": 204
        },
        "outputId": "f6736e11-803a-4095-cf9e-6c69ca7626c0"
      },
      "source": [
        "df_train = pd.read_csv('base_treino.csv',sep='|',encoding='utf-8')\n",
        "df_train.head()"
      ],
      "execution_count": 5,
      "outputs": [
        {
          "output_type": "execute_result",
          "data": {
            "text/html": [
              "<div>\n",
              "<style scoped>\n",
              "    .dataframe tbody tr th:only-of-type {\n",
              "        vertical-align: middle;\n",
              "    }\n",
              "\n",
              "    .dataframe tbody tr th {\n",
              "        vertical-align: top;\n",
              "    }\n",
              "\n",
              "    .dataframe thead th {\n",
              "        text-align: right;\n",
              "    }\n",
              "</style>\n",
              "<table border=\"1\" class=\"dataframe\">\n",
              "  <thead>\n",
              "    <tr style=\"text-align: right;\">\n",
              "      <th></th>\n",
              "      <th>Arquivo</th>\n",
              "      <th>indicacao</th>\n",
              "      <th>indication</th>\n",
              "      <th>ATC_1</th>\n",
              "      <th>ATC_2</th>\n",
              "      <th>ATC_3</th>\n",
              "      <th>ATC_4</th>\n",
              "    </tr>\n",
              "  </thead>\n",
              "  <tbody>\n",
              "    <tr>\n",
              "      <th>0</th>\n",
              "      <td>bula2179</td>\n",
              "      <td>Este pomada é indicada para o alívio das manif...</td>\n",
              "      <td>This ointment is indicated for the relief of i...</td>\n",
              "      <td>D</td>\n",
              "      <td>D07</td>\n",
              "      <td>D07B</td>\n",
              "      <td>D07B1</td>\n",
              "    </tr>\n",
              "    <tr>\n",
              "      <th>1</th>\n",
              "      <td>bula96</td>\n",
              "      <td>Replenine-VF é indicado no tratamento de episó...</td>\n",
              "      <td>Replenine-VF is indicated for the treatment of...</td>\n",
              "      <td>B</td>\n",
              "      <td>B02</td>\n",
              "      <td>B02D</td>\n",
              "      <td>B02D2</td>\n",
              "    </tr>\n",
              "    <tr>\n",
              "      <th>2</th>\n",
              "      <td>bula1835</td>\n",
              "      <td>Hipertensão captopril é indicado para o tratam...</td>\n",
              "      <td>Hypertension Captopril is indicated for the tr...</td>\n",
              "      <td>C</td>\n",
              "      <td>C09</td>\n",
              "      <td>C09A</td>\n",
              "      <td>C09A0</td>\n",
              "    </tr>\n",
              "    <tr>\n",
              "      <th>3</th>\n",
              "      <td>bula1590</td>\n",
              "      <td>Transpulmin xarope é um expectorante destinado...</td>\n",
              "      <td>Transpulmin syrup is an expectorant intended f...</td>\n",
              "      <td>R</td>\n",
              "      <td>R05</td>\n",
              "      <td>R05C</td>\n",
              "      <td>R05C0</td>\n",
              "    </tr>\n",
              "    <tr>\n",
              "      <th>4</th>\n",
              "      <td>bula4244</td>\n",
              "      <td>Dutasterida trata e previne a progressão da hi...</td>\n",
              "      <td>Dutasterida treats and prevents the progressio...</td>\n",
              "      <td>G</td>\n",
              "      <td>G04</td>\n",
              "      <td>G04C</td>\n",
              "      <td>G04C3</td>\n",
              "    </tr>\n",
              "  </tbody>\n",
              "</table>\n",
              "</div>"
            ],
            "text/plain": [
              "    Arquivo                                          indicacao  ... ATC_3  ATC_4\n",
              "0  bula2179  Este pomada é indicada para o alívio das manif...  ...  D07B  D07B1\n",
              "1    bula96  Replenine-VF é indicado no tratamento de episó...  ...  B02D  B02D2\n",
              "2  bula1835  Hipertensão captopril é indicado para o tratam...  ...  C09A  C09A0\n",
              "3  bula1590  Transpulmin xarope é um expectorante destinado...  ...  R05C  R05C0\n",
              "4  bula4244  Dutasterida trata e previne a progressão da hi...  ...  G04C  G04C3\n",
              "\n",
              "[5 rows x 7 columns]"
            ]
          },
          "metadata": {
            "tags": []
          },
          "execution_count": 5
        }
      ]
    },
    {
      "cell_type": "code",
      "metadata": {
        "id": "M_pYu4AWMB37",
        "colab_type": "code",
        "colab": {
          "base_uri": "https://localhost:8080/",
          "height": 204
        },
        "outputId": "419917e9-7455-4fd6-a51f-2f556d132e2c"
      },
      "source": [
        "df_valid= pd.read_csv('base_teste.csv',sep='|',encoding='utf-8')\n",
        "df_valid.head()"
      ],
      "execution_count": 6,
      "outputs": [
        {
          "output_type": "execute_result",
          "data": {
            "text/html": [
              "<div>\n",
              "<style scoped>\n",
              "    .dataframe tbody tr th:only-of-type {\n",
              "        vertical-align: middle;\n",
              "    }\n",
              "\n",
              "    .dataframe tbody tr th {\n",
              "        vertical-align: top;\n",
              "    }\n",
              "\n",
              "    .dataframe thead th {\n",
              "        text-align: right;\n",
              "    }\n",
              "</style>\n",
              "<table border=\"1\" class=\"dataframe\">\n",
              "  <thead>\n",
              "    <tr style=\"text-align: right;\">\n",
              "      <th></th>\n",
              "      <th>Arquivo</th>\n",
              "      <th>indicacao</th>\n",
              "      <th>indication</th>\n",
              "      <th>ATC_1</th>\n",
              "      <th>ATC_2</th>\n",
              "      <th>ATC_3</th>\n",
              "      <th>ATC_4</th>\n",
              "    </tr>\n",
              "  </thead>\n",
              "  <tbody>\n",
              "    <tr>\n",
              "      <th>0</th>\n",
              "      <td>bula292</td>\n",
              "      <td>Cloridrato de ranitidina é indicado no tratame...</td>\n",
              "      <td>Hydrochloride Ranitidina is indicated for the ...</td>\n",
              "      <td>A</td>\n",
              "      <td>A02</td>\n",
              "      <td>A02B</td>\n",
              "      <td>A02B1</td>\n",
              "    </tr>\n",
              "    <tr>\n",
              "      <th>1</th>\n",
              "      <td>bula7742</td>\n",
              "      <td>Hipercolesterolemia Primária ezetimiba, admini...</td>\n",
              "      <td>Primary Hypercholesterolaemia ezetimibe, admin...</td>\n",
              "      <td>C</td>\n",
              "      <td>C10</td>\n",
              "      <td>C10A</td>\n",
              "      <td>C10A9</td>\n",
              "    </tr>\n",
              "    <tr>\n",
              "      <th>2</th>\n",
              "      <td>bula2854</td>\n",
              "      <td>SURVANTAr beractanto é destinado à prevenção e...</td>\n",
              "      <td>SURVANTAr Beractant is intended for the preven...</td>\n",
              "      <td>R</td>\n",
              "      <td>R07</td>\n",
              "      <td>R07C</td>\n",
              "      <td>R07C0</td>\n",
              "    </tr>\n",
              "    <tr>\n",
              "      <th>3</th>\n",
              "      <td>bula2326</td>\n",
              "      <td>GASTROBENE está indicado para - distúrbios da ...</td>\n",
              "      <td>GASTROBENE is indicated for-disorders of gastr...</td>\n",
              "      <td>A</td>\n",
              "      <td>A03</td>\n",
              "      <td>A03F</td>\n",
              "      <td>A03F0</td>\n",
              "    </tr>\n",
              "    <tr>\n",
              "      <th>4</th>\n",
              "      <td>bula3390</td>\n",
              "      <td>Hidrofluxr é destinado ao tratamento da hipert...</td>\n",
              "      <td>HYDROFLUXR is intended for the treatment of ar...</td>\n",
              "      <td>C</td>\n",
              "      <td>C03</td>\n",
              "      <td>C03A</td>\n",
              "      <td>C03A3</td>\n",
              "    </tr>\n",
              "  </tbody>\n",
              "</table>\n",
              "</div>"
            ],
            "text/plain": [
              "    Arquivo                                          indicacao  ... ATC_3  ATC_4\n",
              "0   bula292  Cloridrato de ranitidina é indicado no tratame...  ...  A02B  A02B1\n",
              "1  bula7742  Hipercolesterolemia Primária ezetimiba, admini...  ...  C10A  C10A9\n",
              "2  bula2854  SURVANTAr beractanto é destinado à prevenção e...  ...  R07C  R07C0\n",
              "3  bula2326  GASTROBENE está indicado para - distúrbios da ...  ...  A03F  A03F0\n",
              "4  bula3390  Hidrofluxr é destinado ao tratamento da hipert...  ...  C03A  C03A3\n",
              "\n",
              "[5 rows x 7 columns]"
            ]
          },
          "metadata": {
            "tags": []
          },
          "execution_count": 6
        }
      ]
    },
    {
      "cell_type": "code",
      "metadata": {
        "id": "QFeiw3yzMB00",
        "colab_type": "code",
        "colab": {}
      },
      "source": [
        "data_lm = TextLMDataBunch.from_df('drive/My Drive/PT_LM',train_df=df_train,valid_df=df_valid,text_cols='indicacao',label_cols='ATC_1',vocab=vocab)"
      ],
      "execution_count": 0,
      "outputs": []
    },
    {
      "cell_type": "code",
      "metadata": {
        "id": "asXLXXyPMByN",
        "colab_type": "code",
        "colab": {
          "base_uri": "https://localhost:8080/",
          "height": 374
        },
        "outputId": "8396e2e1-a901-4c13-90b3-a7306f6acdcf"
      },
      "source": [
        "data_lm.show_batch()"
      ],
      "execution_count": 8,
      "outputs": [
        {
          "output_type": "display_data",
          "data": {
            "text/html": [
              "<table border=\"1\" class=\"dataframe\">\n",
              "  <thead>\n",
              "    <tr style=\"text-align: right;\">\n",
              "      <th>idx</th>\n",
              "      <th>text</th>\n",
              "    </tr>\n",
              "  </thead>\n",
              "  <tbody>\n",
              "    <tr>\n",
              "      <td>0</td>\n",
              "      <td>xxunk , dermatite solar , dermatite de xxunk e prurido xxunk . xxbos xxmaj xxunk - xxup xxunk é indicado no tratamento de episódios xxunk e na manutenção de níveis xxunk de fator xxup ix , em pacientes diagnosticados com hemofilia xxup b. xxbos xxmaj hipertensão xxunk é indicado para o tratamento da hipertensão , por reduzir a pressão arterial nesses casos . xxmaj insuficiência xxmaj cardíaca xxunk é indicado</td>\n",
              "    </tr>\n",
              "    <tr>\n",
              "      <td>1</td>\n",
              "      <td>xxmaj diagnóstica da xxmaj xxunk xxmaj xxunk . xxbos xxmaj este medicamento é indicado como analgésico e xxunk . xxbos xxmaj este medicamento é destinado ao tratamento de xxunk xxunk intestinal sob todas as formas xxunk hepática xxunk . xxbos xxmaj xxunk creme é indicado para o tratamento de xxunk causadas por xxunk , leveduras , xxunk , etc . por ex . xxmaj xxunk xxunk , xxmaj xxunk xxunk</td>\n",
              "    </tr>\n",
              "    <tr>\n",
              "      <td>2</td>\n",
              "      <td>trato respiratório inferior . xxbos a vacina febre amarela atenuada é utilizada na prevenção da febre amarela , doença causada por um xxunk da família xxmaj xxunk , do gênero xxmaj xxunk . é recomendada para vacinação em áreas endêmicas ou xxunk ou para os viajantes que a elas se destinam . xxbos xxmaj xxunk está indicado para tratamento local de infecções xxunk xxunk causadas por xxmaj xxunk xxunk .</td>\n",
              "    </tr>\n",
              "    <tr>\n",
              "      <td>3</td>\n",
              "      <td>xxunk e xxunk posterior difusa xxunk simpática conjuntivite alérgica xxunk xxunk xxunk óptica xxunk e xxunk . - xxmaj doenças xxmaj respiratórias xxmaj xxunk xxunk xxmaj síndrome de xxmaj xxunk não - xxunk por outros meios xxunk tuberculose pulmonar fulminante ou disseminada quando usado concomitantemente à quimioterapia xxunk apropriada xxunk por aspiração asma xxunk . - xxmaj distúrbios xxmaj xxunk xxmaj púrpura xxunk idiopática em adultos xxunk secundária em adultos</td>\n",
              "    </tr>\n",
              "    <tr>\n",
              "      <td>4</td>\n",
              "      <td>, acne xxunk , xxunk , xxunk , estomatite angular , dermatite por xxunk , xxunk xxunk xxunk e infecções xxunk por xxunk , como xxmaj xxunk xxunk , xxmaj xxunk xxunk e xxmaj xxunk xxunk . xxbos xxmaj xxunk creme deve ser usado para o tratamento dos seguintes tipos de xxunk xxmaj tinha dos pés plantar e xxunk xxmaj tinha xxunk xxmaj outras xxunk tinha do corpo e tinha</td>\n",
              "    </tr>\n",
              "  </tbody>\n",
              "</table>"
            ],
            "text/plain": [
              "<IPython.core.display.HTML object>"
            ]
          },
          "metadata": {
            "tags": []
          }
        }
      ]
    },
    {
      "cell_type": "code",
      "metadata": {
        "id": "aVSmWADYPBXW",
        "colab_type": "code",
        "colab": {}
      },
      "source": [
        "learn_lm = language_model_learner(data_lm, AWD_LSTM,pretrained_fnames=['pt_wt', 'pt_wt_vocab'], \n",
        "                               drop_mult=0.3)"
      ],
      "execution_count": 0,
      "outputs": []
    },
    {
      "cell_type": "code",
      "metadata": {
        "id": "kSYe7IHjMBtc",
        "colab_type": "code",
        "colab": {
          "base_uri": "https://localhost:8080/",
          "height": 300
        },
        "outputId": "aec74f39-7187-435c-ba09-3aea7708be6b"
      },
      "source": [
        "learn_lm.lr_find()\n",
        "learn_lm.recorder.plot()"
      ],
      "execution_count": 10,
      "outputs": [
        {
          "output_type": "display_data",
          "data": {
            "text/html": [
              ""
            ],
            "text/plain": [
              "<IPython.core.display.HTML object>"
            ]
          },
          "metadata": {
            "tags": []
          }
        },
        {
          "output_type": "stream",
          "text": [
            "LR Finder is complete, type {learner_name}.recorder.plot() to see the graph.\n"
          ],
          "name": "stdout"
        },
        {
          "output_type": "display_data",
          "data": {
            "image/png": "[encoded data removed]",
            "text/plain": [
              "<Figure size 432x288 with 1 Axes>"
            ]
          },
          "metadata": {
            "tags": []
          }
        }
      ]
    },
    {
      "cell_type": "code",
      "metadata": {
        "id": "n7C36DXGMBq2",
        "colab_type": "code",
        "colab": {
          "base_uri": "https://localhost:8080/",
          "height": 1000
        },
        "outputId": "0e640ecc-c889-450c-aa2f-c3efc8224e29"
      },
      "source": [
        "max_lr = 8e-2\n",
        "learn_lm.fit_one_cycle(30, max_lr=max_lr, moms=(0.8,0.7), callbacks=[callbacks.SaveModelCallback(learn_lm, every='improvement', monitor='accuracy', name='learn_lm')])"
      ],
      "execution_count": 11,
      "outputs": [
        {
          "output_type": "display_data",
          "data": {
            "text/html": [
              "<table border=\"1\" class=\"dataframe\">\n",
              "  <thead>\n",
              "    <tr style=\"text-align: left;\">\n",
              "      <th>epoch</th>\n",
              "      <th>train_loss</th>\n",
              "      <th>valid_loss</th>\n",
              "      <th>accuracy</th>\n",
              "      <th>time</th>\n",
              "    </tr>\n",
              "  </thead>\n",
              "  <tbody>\n",
              "    <tr>\n",
              "      <td>0</td>\n",
              "      <td>3.361367</td>\n",
              "      <td>2.849180</td>\n",
              "      <td>0.398741</td>\n",
              "      <td>01:19</td>\n",
              "    </tr>\n",
              "    <tr>\n",
              "      <td>1</td>\n",
              "      <td>2.652474</td>\n",
              "      <td>2.331912</td>\n",
              "      <td>0.474384</td>\n",
              "      <td>01:19</td>\n",
              "    </tr>\n",
              "    <tr>\n",
              "      <td>2</td>\n",
              "      <td>2.246097</td>\n",
              "      <td>2.047657</td>\n",
              "      <td>0.529312</td>\n",
              "      <td>01:19</td>\n",
              "    </tr>\n",
              "    <tr>\n",
              "      <td>3</td>\n",
              "      <td>1.996406</td>\n",
              "      <td>1.919663</td>\n",
              "      <td>0.559589</td>\n",
              "      <td>01:19</td>\n",
              "    </tr>\n",
              "    <tr>\n",
              "      <td>4</td>\n",
              "      <td>1.929657</td>\n",
              "      <td>1.909979</td>\n",
              "      <td>0.562348</td>\n",
              "      <td>01:19</td>\n",
              "    </tr>\n",
              "    <tr>\n",
              "      <td>5</td>\n",
              "      <td>1.874929</td>\n",
              "      <td>1.887290</td>\n",
              "      <td>0.573179</td>\n",
              "      <td>01:19</td>\n",
              "    </tr>\n",
              "    <tr>\n",
              "      <td>6</td>\n",
              "      <td>1.881621</td>\n",
              "      <td>1.908357</td>\n",
              "      <td>0.571170</td>\n",
              "      <td>01:19</td>\n",
              "    </tr>\n",
              "    <tr>\n",
              "      <td>7</td>\n",
              "      <td>1.880330</td>\n",
              "      <td>1.900922</td>\n",
              "      <td>0.573768</td>\n",
              "      <td>01:19</td>\n",
              "    </tr>\n",
              "    <tr>\n",
              "      <td>8</td>\n",
              "      <td>1.858890</td>\n",
              "      <td>1.925862</td>\n",
              "      <td>0.574857</td>\n",
              "      <td>01:19</td>\n",
              "    </tr>\n",
              "    <tr>\n",
              "      <td>9</td>\n",
              "      <td>1.850060</td>\n",
              "      <td>1.898765</td>\n",
              "      <td>0.583277</td>\n",
              "      <td>01:19</td>\n",
              "    </tr>\n",
              "    <tr>\n",
              "      <td>10</td>\n",
              "      <td>1.810782</td>\n",
              "      <td>1.875627</td>\n",
              "      <td>0.590277</td>\n",
              "      <td>01:19</td>\n",
              "    </tr>\n",
              "    <tr>\n",
              "      <td>11</td>\n",
              "      <td>1.767171</td>\n",
              "      <td>1.845850</td>\n",
              "      <td>0.597643</td>\n",
              "      <td>01:19</td>\n",
              "    </tr>\n",
              "    <tr>\n",
              "      <td>12</td>\n",
              "      <td>1.739296</td>\n",
              "      <td>1.820045</td>\n",
              "      <td>0.601143</td>\n",
              "      <td>01:19</td>\n",
              "    </tr>\n",
              "    <tr>\n",
              "      <td>13</td>\n",
              "      <td>1.693809</td>\n",
              "      <td>1.800172</td>\n",
              "      <td>0.607348</td>\n",
              "      <td>01:19</td>\n",
              "    </tr>\n",
              "    <tr>\n",
              "      <td>14</td>\n",
              "      <td>1.660884</td>\n",
              "      <td>1.756623</td>\n",
              "      <td>0.617170</td>\n",
              "      <td>01:19</td>\n",
              "    </tr>\n",
              "    <tr>\n",
              "      <td>15</td>\n",
              "      <td>1.602534</td>\n",
              "      <td>1.731961</td>\n",
              "      <td>0.622946</td>\n",
              "      <td>01:19</td>\n",
              "    </tr>\n",
              "    <tr>\n",
              "      <td>16</td>\n",
              "      <td>1.560994</td>\n",
              "      <td>1.694197</td>\n",
              "      <td>0.632616</td>\n",
              "      <td>01:19</td>\n",
              "    </tr>\n",
              "    <tr>\n",
              "      <td>17</td>\n",
              "      <td>1.507878</td>\n",
              "      <td>1.648524</td>\n",
              "      <td>0.640804</td>\n",
              "      <td>01:19</td>\n",
              "    </tr>\n",
              "    <tr>\n",
              "      <td>18</td>\n",
              "      <td>1.483155</td>\n",
              "      <td>1.614632</td>\n",
              "      <td>0.648714</td>\n",
              "      <td>01:19</td>\n",
              "    </tr>\n",
              "    <tr>\n",
              "      <td>19</td>\n",
              "      <td>1.428355</td>\n",
              "      <td>1.592593</td>\n",
              "      <td>0.655545</td>\n",
              "      <td>01:19</td>\n",
              "    </tr>\n",
              "    <tr>\n",
              "      <td>20</td>\n",
              "      <td>1.396477</td>\n",
              "      <td>1.560336</td>\n",
              "      <td>0.660777</td>\n",
              "      <td>01:19</td>\n",
              "    </tr>\n",
              "    <tr>\n",
              "      <td>21</td>\n",
              "      <td>1.348219</td>\n",
              "      <td>1.534546</td>\n",
              "      <td>0.668750</td>\n",
              "      <td>01:19</td>\n",
              "    </tr>\n",
              "    <tr>\n",
              "      <td>22</td>\n",
              "      <td>1.311782</td>\n",
              "      <td>1.514836</td>\n",
              "      <td>0.671937</td>\n",
              "      <td>01:19</td>\n",
              "    </tr>\n",
              "    <tr>\n",
              "      <td>23</td>\n",
              "      <td>1.270298</td>\n",
              "      <td>1.494676</td>\n",
              "      <td>0.677732</td>\n",
              "      <td>01:19</td>\n",
              "    </tr>\n",
              "    <tr>\n",
              "      <td>24</td>\n",
              "      <td>1.260716</td>\n",
              "      <td>1.484650</td>\n",
              "      <td>0.679188</td>\n",
              "      <td>01:19</td>\n",
              "    </tr>\n",
              "    <tr>\n",
              "      <td>25</td>\n",
              "      <td>1.240043</td>\n",
              "      <td>1.468935</td>\n",
              "      <td>0.684330</td>\n",
              "      <td>01:19</td>\n",
              "    </tr>\n",
              "    <tr>\n",
              "      <td>26</td>\n",
              "      <td>1.200071</td>\n",
              "      <td>1.460526</td>\n",
              "      <td>0.686098</td>\n",
              "      <td>01:19</td>\n",
              "    </tr>\n",
              "    <tr>\n",
              "      <td>27</td>\n",
              "      <td>1.194125</td>\n",
              "      <td>1.457205</td>\n",
              "      <td>0.688143</td>\n",
              "      <td>01:19</td>\n",
              "    </tr>\n",
              "    <tr>\n",
              "      <td>28</td>\n",
              "      <td>1.186050</td>\n",
              "      <td>1.455782</td>\n",
              "      <td>0.687812</td>\n",
              "      <td>01:19</td>\n",
              "    </tr>\n",
              "    <tr>\n",
              "      <td>29</td>\n",
              "      <td>1.182786</td>\n",
              "      <td>1.453170</td>\n",
              "      <td>0.688563</td>\n",
              "      <td>01:19</td>\n",
              "    </tr>\n",
              "  </tbody>\n",
              "</table>"
            ],
            "text/plain": [
              "<IPython.core.display.HTML object>"
            ]
          },
          "metadata": {
            "tags": []
          }
        },
        {
          "output_type": "stream",
          "text": [
            "Better model found at epoch 0 with accuracy value: 0.39874106645584106.\n",
            "Better model found at epoch 1 with accuracy value: 0.4743839502334595.\n",
            "Better model found at epoch 2 with accuracy value: 0.5293124914169312.\n",
            "Better model found at epoch 3 with accuracy value: 0.5595892667770386.\n",
            "Better model found at epoch 4 with accuracy value: 0.5623482465744019.\n",
            "Better model found at epoch 5 with accuracy value: 0.5731785297393799.\n",
            "Better model found at epoch 7 with accuracy value: 0.5737678408622742.\n",
            "Better model found at epoch 8 with accuracy value: 0.5748570561408997.\n",
            "Better model found at epoch 9 with accuracy value: 0.5832768678665161.\n",
            "Better model found at epoch 10 with accuracy value: 0.590276837348938.\n",
            "Better model found at epoch 11 with accuracy value: 0.5976428389549255.\n",
            "Better model found at epoch 12 with accuracy value: 0.6011428236961365.\n",
            "Better model found at epoch 13 with accuracy value: 0.6073482632637024.\n",
            "Better model found at epoch 14 with accuracy value: 0.6171696186065674.\n",
            "Better model found at epoch 15 with accuracy value: 0.6229463815689087.\n",
            "Better model found at epoch 16 with accuracy value: 0.6326161026954651.\n",
            "Better model found at epoch 17 with accuracy value: 0.6408035755157471.\n",
            "Better model found at epoch 18 with accuracy value: 0.6487143635749817.\n",
            "Better model found at epoch 19 with accuracy value: 0.655544638633728.\n",
            "Better model found at epoch 20 with accuracy value: 0.6607768535614014.\n",
            "Better model found at epoch 21 with accuracy value: 0.668749988079071.\n",
            "Better model found at epoch 22 with accuracy value: 0.6719374656677246.\n",
            "Better model found at epoch 23 with accuracy value: 0.6777321696281433.\n",
            "Better model found at epoch 24 with accuracy value: 0.679187536239624.\n",
            "Better model found at epoch 25 with accuracy value: 0.6843303442001343.\n",
            "Better model found at epoch 26 with accuracy value: 0.6860982775688171.\n",
            "Better model found at epoch 27 with accuracy value: 0.6881428360939026.\n",
            "Better model found at epoch 29 with accuracy value: 0.6885625720024109.\n"
          ],
          "name": "stdout"
        }
      ]
    },
    {
      "cell_type": "code",
      "metadata": {
        "id": "W5w7VJjFMBoj",
        "colab_type": "code",
        "colab": {}
      },
      "source": [
        "#Carrego a melhor versão do language model\n",
        "learn_lm.load('learn_lm')\n",
        "learn_lm.save_encoder('enc')"
      ],
      "execution_count": 0,
      "outputs": []
    },
    {
      "cell_type": "code",
      "metadata": {
        "id": "B7etk96qMBmB",
        "colab_type": "code",
        "colab": {}
      },
      "source": [
        "data_clas = TextClasDataBunch.from_df('.',train_df=df_train,valid_df=df_valid,text_cols='indicacao',label_cols='ATC_1')\n",
        "data_clas.save('data_clas')"
      ],
      "execution_count": 0,
      "outputs": []
    },
    {
      "cell_type": "code",
      "metadata": {
        "id": "lAnFxCdTMBjT",
        "colab_type": "code",
        "colab": {}
      },
      "source": [
        "data_clas.show_batch()"
      ],
      "execution_count": 0,
      "outputs": []
    },
    {
      "cell_type": "code",
      "metadata": {
        "id": "ngfaK6_sMBgb",
        "colab_type": "code",
        "colab": {}
      },
      "source": [
        "learn_clas = text_classifier_learner(data_clas, AWD_LSTM, drop_mult=0.3, callback_fns=ShowGraph)\n",
        "learn_clas.load_encoder('enc')"
      ],
      "execution_count": 0,
      "outputs": []
    },
    {
      "cell_type": "code",
      "metadata": {
        "id": "JqmmoGEhMBdl",
        "colab_type": "code",
        "colab": {}
      },
      "source": [
        "learn_clas.lr_find()\n",
        "learn_clas.recorder.plot()"
      ],
      "execution_count": 0,
      "outputs": []
    },
    {
      "cell_type": "code",
      "metadata": {
        "id": "o24cRODWMBaZ",
        "colab_type": "code",
        "colab": {}
      },
      "source": [
        "max_lr = 3e-2\n",
        "learn_clas.fit_one_cycle(70, max_lr=max_lr , moms=(0.8,0.7), callbacks=[callbacks.SaveModelCallback(learn_clas, every='improvement', monitor='accuracy', name='learn_clas')])"
      ],
      "execution_count": 0,
      "outputs": []
    },
    {
      "cell_type": "code",
      "metadata": {
        "id": "-2PWdkloMBVk",
        "colab_type": "code",
        "colab": {}
      },
      "source": [
        "learn_clas.load('learn_clas')"
      ],
      "execution_count": 0,
      "outputs": []
    },
    {
      "cell_type": "code",
      "metadata": {
        "id": "nULFLVZJMBN7",
        "colab_type": "code",
        "colab": {}
      },
      "source": [
        "interp = ClassificationInterpretation.from_learner(learn_clas)"
      ],
      "execution_count": 0,
      "outputs": []
    },
    {
      "cell_type": "code",
      "metadata": {
        "id": "zys7ZBoOMAfm",
        "colab_type": "code",
        "colab": {}
      },
      "source": [
        "interp.plot_confusion_matrix(figsize=(14,14), dpi=60)"
      ],
      "execution_count": 0,
      "outputs": []
    }
  ]
}